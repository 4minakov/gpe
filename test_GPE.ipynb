{
 "cells": [
  {
   "cell_type": "markdown",
   "metadata": {},
   "source": [
    "test code"
   ]
  },
  {
   "cell_type": "markdown",
   "metadata": {},
   "source": [
    "# Compute GPE and integrated strength"
   ]
  },
  {
   "cell_type": "code",
   "execution_count": 58,
   "metadata": {
    "collapsed": false
   },
   "outputs": [
    {
     "name": "stdout",
     "output_type": "stream",
     "text": [
      "871.96683555965 250.0 1000.0 650.0\n"
     ]
    }
   ],
   "source": [
    "#Test GPE versus integrated strength\n",
    "from numpy import *\n",
    "import scipy.linalg\n",
    "#Input parameters\n",
    "rho_w = 1030\n",
    "rho_c = 2800\n",
    "rho_m = 3300\n",
    "alpha = 3e-5\n",
    "Tm    = 1500\n",
    "Ts    =    0\n",
    "Hc    = 20e3\n",
    "L     = 60e3\n",
    "g     = 9.81\n",
    "\n",
    "hw0 = 2800\n",
    "Hc0 = 6e3\n",
    "Z = 0\n",
    "Tm0 = 1300;\n",
    "#Average temperature in the crust and mantle \n",
    "#geotherm \n",
    "T = (Tm-Ts)/L*Z\n",
    "To_c = 1/(Hc-0) * (pow(Hc,2)/2 -    0) * (Tm-Ts)/L\n",
    "To_m = 1/(L-Hc) * (pow(L,2)/2 - pow(Hc,2)/2) * (Tm-Ts)/L\n",
    "To_c0 = 1/(Hc0-0) * (pow(Hc0,2)/2 -    0) * (Tm0-Ts)/Hc0\n",
    "#Assume isostatic compensation\n",
    "hw = 1/(rho_w-rho_m*(1-alpha*To_m))* ( hw0*rho_w + Hc0*rho_c*(1-alpha*To_c0) + rho_m*(1-alpha*Tm0)*(L - Hc0 - hw0) - \\\n",
    "                       (rho_c*(1-alpha*To_c)*Hc + rho_m*(1-alpha*To_m)*(L - Hc))\n",
    ")\n",
    "print(hw,To_c,To_m,To_c0)"
   ]
  }
 ],
 "metadata": {
  "anaconda-cloud": {
   "attach-environment": true,
   "environment": "Root",
   "summary": "test gpe",
   "url": "https://anaconda.org/alexminakov/test_gpe"
  },
  "kernelspec": {
   "display_name": "Python [Root]",
   "language": "python",
   "name": "Python [Root]"
  },
  "language_info": {
   "codemirror_mode": {
    "name": "ipython",
    "version": 3
   },
   "file_extension": ".py",
   "mimetype": "text/x-python",
   "name": "python",
   "nbconvert_exporter": "python",
   "pygments_lexer": "ipython3",
   "version": "3.5.2"
  }
 },
 "nbformat": 4,
 "nbformat_minor": 0
}
